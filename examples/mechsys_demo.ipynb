{
 "cells": [
  {
   "cell_type": "code",
   "execution_count": null,
   "metadata": {},
   "outputs": [
    {
     "name": "stdout",
     "output_type": "stream",
     "text": [
      "Flight zone loaded from file gazebo_baylands.plan, maximum relative altitude set to 10.0 m.\n",
      "\n",
      "Waiting for UAV to connect...\n",
      "Connected to UAV!\n",
      "\n",
      "Waiting for UAV to have a global position estimate...\n",
      "Global position state is good enough for flying.\n",
      "\n",
      "Fetching absolute altitude at home location...\n",
      "Absolute home altitude is 38.6 m.\n"
     ]
    }
   ],
   "source": [
    "from mechsys_uav import UAV\n",
    "uav = await UAV.connect(use_sim=True)"
   ]
  },
  {
   "cell_type": "code",
   "execution_count": 2,
   "metadata": {},
   "outputs": [
    {
     "data": {
      "text/plain": [
       "(37.412179099999996, -121.99924329999999, -0.0020000000949949026)"
      ]
     },
     "execution_count": 2,
     "metadata": {},
     "output_type": "execute_result"
    }
   ],
   "source": [
    "uav.get_position()"
   ]
  },
  {
   "cell_type": "code",
   "execution_count": 3,
   "metadata": {},
   "outputs": [
    {
     "data": {
      "text/plain": [
       "(1.503443956375122, 1.9713995456695557, -85.9332046508789)"
      ]
     },
     "execution_count": 3,
     "metadata": {},
     "output_type": "execute_result"
    }
   ],
   "source": [
    "uav.get_attitude()"
   ]
  },
  {
   "cell_type": "code",
   "execution_count": 5,
   "metadata": {},
   "outputs": [
    {
     "name": "stdout",
     "output_type": "stream",
     "text": [
      "Arming\n",
      "Taking off\n"
     ]
    }
   ],
   "source": [
    "goal_accepted = await uav.arm_and_takeoff(takeoff_altitude=2)"
   ]
  },
  {
   "cell_type": "code",
   "execution_count": 7,
   "metadata": {},
   "outputs": [
    {
     "name": "stdout",
     "output_type": "stream",
     "text": [
      "Position sent to UAV.\n"
     ]
    }
   ],
   "source": [
    "goal_accepted = await uav.send_goal_position(latitude=37.4122, longitude=-121.999524, relative_altitude=8, heading=11)"
   ]
  },
  {
   "cell_type": "code",
   "execution_count": 8,
   "metadata": {},
   "outputs": [
    {
     "name": "stdout",
     "output_type": "stream",
     "text": [
      "Landing\n"
     ]
    }
   ],
   "source": [
    "goal_accepted = await uav.land()"
   ]
  },
  {
   "cell_type": "code",
   "execution_count": null,
   "metadata": {},
   "outputs": [],
   "source": []
  }
 ],
 "metadata": {
  "kernelspec": {
   "display_name": "Python 3",
   "language": "python",
   "name": "python3"
  },
  "language_info": {
   "codemirror_mode": {
    "name": "ipython",
    "version": 3
   },
   "file_extension": ".py",
   "mimetype": "text/x-python",
   "name": "python",
   "nbconvert_exporter": "python",
   "pygments_lexer": "ipython3",
   "version": "3.10.12"
  }
 },
 "nbformat": 4,
 "nbformat_minor": 2
}
