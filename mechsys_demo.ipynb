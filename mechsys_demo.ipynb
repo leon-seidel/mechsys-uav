{
 "cells": [
  {
   "cell_type": "code",
   "execution_count": null,
   "metadata": {},
   "outputs": [
    {
     "name": "stdout",
     "output_type": "stream",
     "text": [
      "Flight zone loaded from file flight_zone.plan, maximum relative altitude set to 10.0 m.\n",
      "\n",
      "Waiting for UAV to connect...\n",
      "Connected to UAV!\n",
      "\n",
      "Waiting for UAV to have a global position estimate...\n",
      "Global position state is good enough for flying.\n",
      "\n",
      "Fetching absolute altitude at home location...\n",
      "Absolute home altitude is 38.2 m.\n"
     ]
    }
   ],
   "source": [
    "from mechsys_uav import UAV\n",
    "uav = await UAV.connect(use_sim=True)"
   ]
  },
  {
   "cell_type": "code",
   "execution_count": 18,
   "metadata": {},
   "outputs": [
    {
     "data": {
      "text/plain": [
       "(37.413003599999996, -121.9993803, 5.62600040435791)"
      ]
     },
     "execution_count": 18,
     "metadata": {},
     "output_type": "execute_result"
    }
   ],
   "source": [
    "uav.latitude, uav.longitude, uav.relative_altitude"
   ]
  },
  {
   "cell_type": "code",
   "execution_count": 19,
   "metadata": {},
   "outputs": [
    {
     "data": {
      "text/plain": [
       "(-2.4066805839538574, -2.644848108291626, 10.962618827819824)"
      ]
     },
     "execution_count": 19,
     "metadata": {},
     "output_type": "execute_result"
    }
   ],
   "source": [
    "uav.pitch, uav.roll, uav.heading"
   ]
  },
  {
   "cell_type": "code",
   "execution_count": 7,
   "metadata": {},
   "outputs": [
    {
     "name": "stdout",
     "output_type": "stream",
     "text": [
      "Position sent to UAV.\n"
     ]
    }
   ],
   "source": [
    "goal_accepted = await uav.send_goal_position(latitude=37.413240, longitude=-121.999524, relative_altitude=8, heading=11)"
   ]
  },
  {
   "cell_type": "code",
   "execution_count": 6,
   "metadata": {},
   "outputs": [
    {
     "name": "stdout",
     "output_type": "stream",
     "text": [
      "Arming\n",
      "Taking off\n"
     ]
    }
   ],
   "source": [
    "goal_accepted = await uav.arm_and_takeoff(takeoff_altitude=2)"
   ]
  },
  {
   "cell_type": "code",
   "execution_count": 20,
   "metadata": {},
   "outputs": [
    {
     "name": "stdout",
     "output_type": "stream",
     "text": [
      "Landing\n"
     ]
    }
   ],
   "source": [
    "goal_accepted = await uav.land()"
   ]
  },
  {
   "cell_type": "code",
   "execution_count": null,
   "metadata": {},
   "outputs": [],
   "source": []
  }
 ],
 "metadata": {
  "kernelspec": {
   "display_name": "Python 3",
   "language": "python",
   "name": "python3"
  },
  "language_info": {
   "codemirror_mode": {
    "name": "ipython",
    "version": 3
   },
   "file_extension": ".py",
   "mimetype": "text/x-python",
   "name": "python",
   "nbconvert_exporter": "python",
   "pygments_lexer": "ipython3",
   "version": "3.10.12"
  }
 },
 "nbformat": 4,
 "nbformat_minor": 2
}
